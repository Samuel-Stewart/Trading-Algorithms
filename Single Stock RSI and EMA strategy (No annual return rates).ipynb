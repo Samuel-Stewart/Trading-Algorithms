{
 "cells": [
  {
   "cell_type": "code",
   "execution_count": 3,
   "id": "15c52b3d",
   "metadata": {},
   "outputs": [],
   "source": [
    "import pandas as pd\n",
    "import yfinance as yf\n",
    "import matplotlib.pyplot as plt\n",
    "\n",
    "#This code will allow you to input a stock ticker to test the defined trading strategy implemented witin the code. \n",
    "#Further work on this project will output the resulting data into an excel file so that further analysis can be done. \n",
    "#This code will output the win percentage for the trading strategy as well as the number of trades entered, and the average dollar per share gain or loss onwinning and losing  trades.\n",
    "\n",
    "#If you would like to know what the annual rate of return for this strategy is, feel free to email me @ stewart9@vt.edu for the excel file which contains that information."
   ]
  },
  {
   "cell_type": "code",
   "execution_count": 4,
   "id": "b9dbcdbf",
   "metadata": {},
   "outputs": [
    {
     "data": {
      "text/html": [
       "<div>\n",
       "<style scoped>\n",
       "    .dataframe tbody tr th:only-of-type {\n",
       "        vertical-align: middle;\n",
       "    }\n",
       "\n",
       "    .dataframe tbody tr th {\n",
       "        vertical-align: top;\n",
       "    }\n",
       "\n",
       "    .dataframe thead th {\n",
       "        text-align: right;\n",
       "    }\n",
       "</style>\n",
       "<table border=\"1\" class=\"dataframe\">\n",
       "  <thead>\n",
       "    <tr style=\"text-align: right;\">\n",
       "      <th></th>\n",
       "      <th>Symbol</th>\n",
       "      <th>Security</th>\n",
       "      <th>SEC filings</th>\n",
       "      <th>GICS Sector</th>\n",
       "      <th>GICS Sub-Industry</th>\n",
       "      <th>Headquarters Location</th>\n",
       "      <th>Date first added</th>\n",
       "      <th>CIK</th>\n",
       "      <th>Founded</th>\n",
       "    </tr>\n",
       "  </thead>\n",
       "  <tbody>\n",
       "    <tr>\n",
       "      <th>0</th>\n",
       "      <td>MMM</td>\n",
       "      <td>3M</td>\n",
       "      <td>reports</td>\n",
       "      <td>Industrials</td>\n",
       "      <td>Industrial Conglomerates</td>\n",
       "      <td>Saint Paul, Minnesota</td>\n",
       "      <td>1976-08-09</td>\n",
       "      <td>66740</td>\n",
       "      <td>1902</td>\n",
       "    </tr>\n",
       "    <tr>\n",
       "      <th>1</th>\n",
       "      <td>ABT</td>\n",
       "      <td>Abbott Laboratories</td>\n",
       "      <td>reports</td>\n",
       "      <td>Health Care</td>\n",
       "      <td>Health Care Equipment</td>\n",
       "      <td>North Chicago, Illinois</td>\n",
       "      <td>1964-03-31</td>\n",
       "      <td>1800</td>\n",
       "      <td>1888</td>\n",
       "    </tr>\n",
       "    <tr>\n",
       "      <th>2</th>\n",
       "      <td>ABBV</td>\n",
       "      <td>AbbVie</td>\n",
       "      <td>reports</td>\n",
       "      <td>Health Care</td>\n",
       "      <td>Pharmaceuticals</td>\n",
       "      <td>North Chicago, Illinois</td>\n",
       "      <td>2012-12-31</td>\n",
       "      <td>1551152</td>\n",
       "      <td>2013 (1888)</td>\n",
       "    </tr>\n",
       "    <tr>\n",
       "      <th>3</th>\n",
       "      <td>ABMD</td>\n",
       "      <td>Abiomed</td>\n",
       "      <td>reports</td>\n",
       "      <td>Health Care</td>\n",
       "      <td>Health Care Equipment</td>\n",
       "      <td>Danvers, Massachusetts</td>\n",
       "      <td>2018-05-31</td>\n",
       "      <td>815094</td>\n",
       "      <td>1981</td>\n",
       "    </tr>\n",
       "    <tr>\n",
       "      <th>4</th>\n",
       "      <td>ACN</td>\n",
       "      <td>Accenture</td>\n",
       "      <td>reports</td>\n",
       "      <td>Information Technology</td>\n",
       "      <td>IT Consulting &amp; Other Services</td>\n",
       "      <td>Dublin, Ireland</td>\n",
       "      <td>2011-07-06</td>\n",
       "      <td>1467373</td>\n",
       "      <td>1989</td>\n",
       "    </tr>\n",
       "  </tbody>\n",
       "</table>\n",
       "</div>"
      ],
      "text/plain": [
       "  Symbol             Security SEC filings             GICS Sector  \\\n",
       "0    MMM                   3M     reports             Industrials   \n",
       "1    ABT  Abbott Laboratories     reports             Health Care   \n",
       "2   ABBV               AbbVie     reports             Health Care   \n",
       "3   ABMD              Abiomed     reports             Health Care   \n",
       "4    ACN            Accenture     reports  Information Technology   \n",
       "\n",
       "                GICS Sub-Industry    Headquarters Location Date first added  \\\n",
       "0        Industrial Conglomerates    Saint Paul, Minnesota       1976-08-09   \n",
       "1           Health Care Equipment  North Chicago, Illinois       1964-03-31   \n",
       "2                 Pharmaceuticals  North Chicago, Illinois       2012-12-31   \n",
       "3           Health Care Equipment   Danvers, Massachusetts       2018-05-31   \n",
       "4  IT Consulting & Other Services          Dublin, Ireland       2011-07-06   \n",
       "\n",
       "       CIK      Founded  \n",
       "0    66740         1902  \n",
       "1     1800         1888  \n",
       "2  1551152  2013 (1888)  \n",
       "3   815094         1981  \n",
       "4  1467373         1989  "
      ]
     },
     "execution_count": 4,
     "metadata": {},
     "output_type": "execute_result"
    }
   ],
   "source": [
    "tickers = pd.read_html('https://en.wikipedia.org/wiki/List_of_S%26P_500_companies')[0]\n",
    "tickers.head()"
   ]
  },
  {
   "cell_type": "code",
   "execution_count": 5,
   "id": "98885358",
   "metadata": {},
   "outputs": [
    {
     "ename": "AttributeError",
     "evalue": "'list' object has no attribute 'head'",
     "output_type": "error",
     "traceback": [
      "\u001b[1;31m---------------------------------------------------------------------------\u001b[0m",
      "\u001b[1;31mAttributeError\u001b[0m                            Traceback (most recent call last)",
      "\u001b[1;32m<ipython-input-5-a3112d8024ba>\u001b[0m in \u001b[0;36m<module>\u001b[1;34m\u001b[0m\n\u001b[0;32m      1\u001b[0m \u001b[0mtickers\u001b[0m \u001b[1;33m=\u001b[0m \u001b[0mtickers\u001b[0m\u001b[1;33m[\u001b[0m\u001b[1;34m'Symbol'\u001b[0m\u001b[1;33m]\u001b[0m\u001b[1;33m.\u001b[0m\u001b[0mto_list\u001b[0m\u001b[1;33m(\u001b[0m\u001b[1;33m)\u001b[0m\u001b[1;33m\u001b[0m\u001b[1;33m\u001b[0m\u001b[0m\n\u001b[1;32m----> 2\u001b[1;33m \u001b[0mtickers\u001b[0m\u001b[1;33m.\u001b[0m\u001b[0mhead\u001b[0m\u001b[1;33m(\u001b[0m\u001b[1;33m)\u001b[0m\u001b[1;33m\u001b[0m\u001b[1;33m\u001b[0m\u001b[0m\n\u001b[0m",
      "\u001b[1;31mAttributeError\u001b[0m: 'list' object has no attribute 'head'"
     ]
    }
   ],
   "source": [
    "tickers = tickers['Symbol'].to_list()\n",
    "tickers.head()\n"
   ]
  },
  {
   "cell_type": "code",
   "execution_count": 6,
   "id": "9b952610",
   "metadata": {},
   "outputs": [],
   "source": [
    "tickers = [i.replace('.', '-') for i in tickers]"
   ]
  },
  {
   "cell_type": "code",
   "execution_count": 7,
   "id": "232708e6",
   "metadata": {
    "scrolled": true
   },
   "outputs": [
    {
     "data": {
      "text/plain": [
       "'WU'"
      ]
     },
     "execution_count": 7,
     "metadata": {},
     "output_type": "execute_result"
    }
   ],
   "source": [
    "tickers.pop(474)\n",
    "tickers.pop(489)"
   ]
  },
  {
   "cell_type": "code",
   "execution_count": 8,
   "id": "557a5ca9",
   "metadata": {},
   "outputs": [
    {
     "data": {
      "text/plain": [
       "330"
      ]
     },
     "execution_count": 8,
     "metadata": {},
     "output_type": "execute_result"
    }
   ],
   "source": [
    "ticker = 'NFLX'\n",
    "ticker_index = tickers.index(ticker)\n",
    "ticker_index"
   ]
  },
  {
   "cell_type": "code",
   "execution_count": 9,
   "id": "7886b538",
   "metadata": {},
   "outputs": [],
   "source": [
    "def RSIcalc(asset):\n",
    "    df = yf.download(asset, start='2011-07-08')\n",
    "    df['MA200'] = df['Adj Close'].rolling(window=270).mean()\n",
    "    df['price change'] = df['Adj Close'].pct_change()\n",
    "    df['Upmove'] = df['price change'].apply(lambda x: x if x>0 else 0)\n",
    "    df['Downmove'] = df['price change'].apply(lambda x: abs(x) if x<0 else 0)\n",
    "    df['Avg Up'] = df['Upmove'].ewm(span=19).mean()\n",
    "    df['Avg Down'] = df['Downmove'].ewm(span=19).mean()\n",
    "    df = df.dropna()\n",
    "    df['RS'] = df['Avg Up']/df['Avg Down']\n",
    "    df['RSI'] = df['RS'].apply(lambda x: 100 - (100/(x+1)))\n",
    "    df.loc[(df['Adj Close'] > df['MA200']) & (df['RSI'] < 30), 'Buy'] = 'Yes'\n",
    "    df.loc[(df['Adj Close'] < df['MA200']) | (df['RSI'] > 30), 'Buy'] = 'No'\n",
    "    return df"
   ]
  },
  {
   "cell_type": "code",
   "execution_count": 10,
   "id": "e098b2b3",
   "metadata": {},
   "outputs": [],
   "source": [
    "def getSignals(df):\n",
    "    Buy_Dates = []\n",
    "    Sell_Dates = []\n",
    "    \n",
    "    for i in range(0,len(df)):\n",
    "        if \"Yes\" in df['Buy'].iloc[i]:\n",
    "            Buy_Dates.append(df.iloc[i+1].name)\n",
    "            for j in range(1,11):\n",
    "                if df['RSI'].iloc[i + j] > 40:\n",
    "                    Sell_Dates.append(df.iloc[i+j+1].name)\n",
    "                    break\n",
    "                elif j ==10:\n",
    "                    Sell_Dates.append(df.iloc[i+j+1].name)\n",
    "    return Buy_Dates, Sell_Dates\n"
   ]
  },
  {
   "cell_type": "code",
   "execution_count": 11,
   "id": "86e08c86-77ac-4151-9a5c-7fc562203881",
   "metadata": {},
   "outputs": [
    {
     "data": {
      "text/plain": [
       "'NFLX'"
      ]
     },
     "execution_count": 11,
     "metadata": {},
     "output_type": "execute_result"
    }
   ],
   "source": [
    "tickers[ticker_index]"
   ]
  },
  {
   "cell_type": "code",
   "execution_count": 12,
   "id": "c86cf22d",
   "metadata": {},
   "outputs": [
    {
     "name": "stdout",
     "output_type": "stream",
     "text": [
      "[*********************100%***********************]  1 of 1 completed\n"
     ]
    },
    {
     "name": "stderr",
     "output_type": "stream",
     "text": [
      "<ipython-input-9-8b79bf278ac2>:10: SettingWithCopyWarning: \n",
      "A value is trying to be set on a copy of a slice from a DataFrame.\n",
      "Try using .loc[row_indexer,col_indexer] = value instead\n",
      "\n",
      "See the caveats in the documentation: https://pandas.pydata.org/pandas-docs/stable/user_guide/indexing.html#returning-a-view-versus-a-copy\n",
      "  df['RS'] = df['Avg Up']/df['Avg Down']\n",
      "<ipython-input-9-8b79bf278ac2>:11: SettingWithCopyWarning: \n",
      "A value is trying to be set on a copy of a slice from a DataFrame.\n",
      "Try using .loc[row_indexer,col_indexer] = value instead\n",
      "\n",
      "See the caveats in the documentation: https://pandas.pydata.org/pandas-docs/stable/user_guide/indexing.html#returning-a-view-versus-a-copy\n",
      "  df['RSI'] = df['RS'].apply(lambda x: 100 - (100/(x+1)))\n",
      "C:\\Users\\baske\\AppData\\Roaming\\Python\\Python38\\site-packages\\pandas\\core\\indexing.py:1599: SettingWithCopyWarning: \n",
      "A value is trying to be set on a copy of a slice from a DataFrame.\n",
      "Try using .loc[row_indexer,col_indexer] = value instead\n",
      "\n",
      "See the caveats in the documentation: https://pandas.pydata.org/pandas-docs/stable/user_guide/indexing.html#returning-a-view-versus-a-copy\n",
      "  self.obj[key] = infer_fill_value(value)\n",
      "C:\\Users\\baske\\AppData\\Roaming\\Python\\Python38\\site-packages\\pandas\\core\\indexing.py:1720: SettingWithCopyWarning: \n",
      "A value is trying to be set on a copy of a slice from a DataFrame.\n",
      "Try using .loc[row_indexer,col_indexer] = value instead\n",
      "\n",
      "See the caveats in the documentation: https://pandas.pydata.org/pandas-docs/stable/user_guide/indexing.html#returning-a-view-versus-a-copy\n",
      "  self._setitem_single_column(loc, value, pi)\n",
      "C:\\Users\\baske\\AppData\\Roaming\\Python\\Python38\\site-packages\\pandas\\core\\indexing.py:1720: SettingWithCopyWarning: \n",
      "A value is trying to be set on a copy of a slice from a DataFrame.\n",
      "Try using .loc[row_indexer,col_indexer] = value instead\n",
      "\n",
      "See the caveats in the documentation: https://pandas.pydata.org/pandas-docs/stable/user_guide/indexing.html#returning-a-view-versus-a-copy\n",
      "  self._setitem_single_column(loc, value, pi)\n"
     ]
    }
   ],
   "source": [
    "frame = RSIcalc(tickers[ticker_index])\n",
    "buy, sell = getSignals(frame)\n",
    "#buy, sell = getSignals(frame)\n"
   ]
  },
  {
   "cell_type": "code",
   "execution_count": 13,
   "id": "73db0057",
   "metadata": {},
   "outputs": [
    {
     "data": {
      "text/plain": [
       "[<matplotlib.lines.Line2D at 0x158f21c0280>]"
      ]
     },
     "execution_count": 13,
     "metadata": {},
     "output_type": "execute_result"
    },
    {
     "data": {
      "image/png": "[encoded data removed]",
      "text/plain": [
       "<Figure size 864x360 with 1 Axes>"
      ]
     },
     "metadata": {
      "needs_background": "light"
     },
     "output_type": "display_data"
    }
   ],
   "source": [
    "plt.figure(figsize=(12,5))\n",
    "plt.scatter(frame.loc[buy].index,frame.loc[buy]['Adj Close'], marker= '^', c='g')\n",
    "plt.plot(frame['Adj Close'], alpha=.7)"
   ]
  },
  {
   "cell_type": "code",
   "execution_count": 14,
   "id": "80104b0d",
   "metadata": {},
   "outputs": [],
   "source": [
    "Profits = frame.loc[sell]['Open'].values - frame.loc[buy]['Open'].values"
   ]
  },
  {
   "cell_type": "code",
   "execution_count": 15,
   "id": "63b4a6fb",
   "metadata": {},
   "outputs": [
    {
     "data": {
      "text/plain": [
       "array([  1.30856673,   2.75857625,  15.04766361,  12.26262783,\n",
       "        13.49128529,  15.86989594,  12.37113596,  16.82957178,\n",
       "        15.54190154,  15.48625597,  16.44309049, -16.02505404,\n",
       "       -10.27704415,  -5.89260218,  -4.45541016,  -8.16723289,\n",
       "        -7.91679716,  -6.44491775,  -9.46507777,  -6.79988226,\n",
       "        -1.73019941,   2.58142218,   2.72019158,   5.59251015,\n",
       "         4.92956091,   5.51276346,   0.64365788,  -0.08774593,\n",
       "         4.93100686,   6.67285609,  10.51381859,   0.48581421,\n",
       "         6.55183873,   5.16867125,   4.74453622,   2.60381828,\n",
       "         6.10638534,   7.58008342,   3.90533709,  -0.57131148,\n",
       "         1.0230436 ])"
      ]
     },
     "execution_count": 15,
     "metadata": {},
     "output_type": "execute_result"
    }
   ],
   "source": [
    "Percent_Profits = (Profits/frame.loc[buy]['Open'].values)*100\n",
    "Percent_Profits  "
   ]
  },
  {
   "cell_type": "code",
   "execution_count": 18,
   "id": "1cb2e37a",
   "metadata": {},
   "outputs": [],
   "source": [
    "wins = [i for i in Profits if i>0] #finds number of profitable trades"
   ]
  },
  {
   "cell_type": "code",
   "execution_count": 19,
   "id": "5c0fc188",
   "metadata": {},
   "outputs": [
    {
     "data": {
      "text/plain": [
       "[0.3099994659423828,\n",
       " 0.6442852020263672,\n",
       " 7.2385711669921875,\n",
       " 5.987140655517578,\n",
       " 6.515712738037109,\n",
       " 7.50714111328125,\n",
       " 6.0342864990234375,\n",
       " 7.895713806152344,\n",
       " 7.372856140136719,\n",
       " 7.349998474121094,\n",
       " 7.739997863769531,\n",
       " 1.2557144165039062,\n",
       " 1.3214302062988281,\n",
       " 2.6428604125976562,\n",
       " 2.344287872314453,\n",
       " 2.6071434020996094,\n",
       " 0.4057159423828125,\n",
       " 2.9457130432128906,\n",
       " 7.19000244140625,\n",
       " 11.069999694824219,\n",
       " 0.75,\n",
       " 21.720001220703125,\n",
       " 17.360015869140625,\n",
       " 16.0,\n",
       " 8.589996337890625,\n",
       " 19.47998046875,\n",
       " 23.8499755859375,\n",
       " 12.69000244140625,\n",
       " 5.19000244140625]"
      ]
     },
     "execution_count": 19,
     "metadata": {},
     "output_type": "execute_result"
    }
   ],
   "source": [
    "wins #dollar amount per share profit for each winning trade\n"
   ]
  },
  {
   "cell_type": "code",
   "execution_count": 20,
   "id": "415fd222",
   "metadata": {},
   "outputs": [
    {
     "data": {
      "text/plain": [
       "0.7073170731707317"
      ]
     },
     "execution_count": 20,
     "metadata": {},
     "output_type": "execute_result"
    }
   ],
   "source": [
    "len(wins)/len(Profits) #calculates win rate of strategy"
   ]
  },
  {
   "cell_type": "code",
   "execution_count": 21,
   "id": "85958822",
   "metadata": {},
   "outputs": [
    {
     "data": {
      "text/plain": [
       "41"
      ]
     },
     "execution_count": 21,
     "metadata": {},
     "output_type": "execute_result"
    }
   ],
   "source": [
    "len(Profits) #number of trades entered into over the 10 year period"
   ]
  },
  {
   "cell_type": "code",
   "execution_count": null,
   "id": "35347c4e-cd8c-4e13-8976-1a50f60783d4",
   "metadata": {},
   "outputs": [],
   "source": [
    "Percent_Profits.mean() #average percent gained on each trade"
   ]
  },
  {
   "cell_type": "code",
   "execution_count": 22,
   "id": "a4cbea1c",
   "metadata": {},
   "outputs": [
    {
     "data": {
      "text/plain": [
       "7.655467066271552"
      ]
     },
     "execution_count": 22,
     "metadata": {},
     "output_type": "execute_result"
    }
   ],
   "source": [
    "Average_return_of_profitable_trade = (sum(wins)/len(wins))\n",
    "Average_return_of_profitable_trade #average return per share in dollar amount for a profitable trade"
   ]
  },
  {
   "cell_type": "code",
   "execution_count": 24,
   "id": "643400c8",
   "metadata": {},
   "outputs": [],
   "source": [
    "losses = [i for i in Profits if i<0]"
   ]
  },
  {
   "cell_type": "code",
   "execution_count": 25,
   "id": "81113394",
   "metadata": {},
   "outputs": [
    {
     "data": {
      "text/plain": [
       "[-9.282855987548828,\n",
       " -5.5642852783203125,\n",
       " -3.1399993896484375,\n",
       " -2.361431121826172,\n",
       " -4.202857971191406,\n",
       " -4.088573455810547,\n",
       " -3.2385711669921875,\n",
       " -4.944286346435547,\n",
       " -3.5100021362304688,\n",
       " -0.878570556640625,\n",
       " -0.055713653564453125,\n",
       " -1.94000244140625]"
      ]
     },
     "execution_count": 25,
     "metadata": {},
     "output_type": "execute_result"
    }
   ],
   "source": [
    "losses"
   ]
  },
  {
   "cell_type": "code",
   "execution_count": 29,
   "id": "8919ceb5-bff7-4229-929b-0e9eded46509",
   "metadata": {},
   "outputs": [
    {
     "data": {
      "text/plain": [
       "-3.600595792134603"
      ]
     },
     "execution_count": 29,
     "metadata": {},
     "output_type": "execute_result"
    }
   ],
   "source": [
    "average_dollar_loss_on_losing_trade = sum(losses)/len(losses)\n",
    "average_dollar_loss_on_losing_trade #average loss per share in dollar amount for a losing trade"
   ]
  },
  {
   "cell_type": "code",
   "execution_count": null,
   "id": "c7e9d4b4-7825-40c9-9713-49bbb14a9cff",
   "metadata": {},
   "outputs": [],
   "source": []
  }
 ],
 "metadata": {
  "kernelspec": {
   "display_name": "Python 3",
   "language": "python",
   "name": "python3"
  },
  "language_info": {
   "codemirror_mode": {
    "name": "ipython",
    "version": 3
   },
   "file_extension": ".py",
   "mimetype": "text/x-python",
   "name": "python",
   "nbconvert_exporter": "python",
   "pygments_lexer": "ipython3",
   "version": "3.8.8"
  }
 },
 "nbformat": 4,
 "nbformat_minor": 5
}
